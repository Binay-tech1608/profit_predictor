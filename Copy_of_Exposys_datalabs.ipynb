{
  "nbformat": 4,
  "nbformat_minor": 0,
  "metadata": {
    "colab": {
      "provenance": [],
      "gpuType": "T4"
    },
    "kernelspec": {
      "name": "python3",
      "display_name": "Python 3"
    },
    "language_info": {
      "name": "python"
    },
    "accelerator": "GPU"
  },
  "cells": [
    {
      "cell_type": "code",
      "source": [
        "accuracy = []"
      ],
      "metadata": {
        "id": "ukQOLIC3TN4j"
      },
      "execution_count": null,
      "outputs": []
    },
    {
      "cell_type": "code",
      "source": [
        "import pandas as pd\n",
        "from sklearn.model_selection import train_test_split\n",
        "from sklearn.linear_model import LinearRegression\n",
        "from sklearn.metrics import mean_squared_error, r2_score, mean_absolute_error, explained_variance_score,mean_squared_error, mean_squared_log_error\n",
        "\n",
        "# Load the dataset\n",
        "data = pd.read_csv(\"/content/drive/MyDrive/Colab Notebooks/50_Startups.csv\")\n",
        "data.dropna()\n",
        "\n",
        "# Split the data into features (x) and target variable (y)\n",
        "x = data.drop(\"Profit\", axis=1)\n",
        "y = data[\"Profit\"].values #profit is our target margin\n",
        "\n",
        "\n",
        "# Split the data into training and testing sets\n",
        "x_train, x_test, y_train, y_test = train_test_split(x, y, test_size=0.2, random_state=42)\n",
        "\n",
        "# Use Linear Regression\n",
        "model = LinearRegression()\n",
        "model.fit(x_train, y_train)\n",
        "\n",
        "# Make predictions\n",
        "y_pred = model.predict(x_test)\n",
        "\n",
        "# Evaluate the model\n",
        "mse = mean_squared_error(y_test, y_pred)\n",
        "mae = mean_absolute_error(y_test, y_pred)\n",
        "r2 = r2_score(y_test, y_pred)\n",
        "explained_var = explained_variance_score(y_test, y_pred)\n",
        "mean_squared_error = mean_squared_error(y_test, y_pred)\n",
        "mean_squared_log_error = mean_squared_log_error(y_test, y_pred)\n",
        "\n",
        "print(f'Mean Squared Error: {mse}')\n",
        "print(f'Mean Absolute Error: {mae}')\n",
        "print(\"R-squared (accuracy): \", r2)\n",
        "print(\"Explained Variance: \", explained_var)\n",
        "print(\"R-squared percentage: \", r2 * 100)\n",
        "print(\"Mean Squared Error: \", mean_squared_error)\n",
        "print(\"Mean Squared Log Error: \", mean_squared_log_error)\n",
        "accuracy.append(r2)"
      ],
      "metadata": {
        "id": "QwD7-V2ZB9G_",
        "outputId": "b5212916-4961-4e33-a2c1-239eb3bc498e",
        "colab": {
          "base_uri": "https://localhost:8080/"
        }
      },
      "execution_count": null,
      "outputs": [
        {
          "output_type": "stream",
          "name": "stdout",
          "text": [
            "Mean Squared Error: 80926321.22295158\n",
            "Mean Absolute Error: 6979.152252370402\n",
            "R-squared (accuracy):  0.9000653083037321\n",
            "Explained Variance:  0.9035288469713902\n",
            "R-squared percentage:  90.00653083037321\n",
            "Mean Squared Error:  80926321.22295158\n",
            "Mean Squared Log Error:  0.02572138240307621\n"
          ]
        }
      ]
    },
    {
      "cell_type": "code",
      "source": [
        "import pandas as pd\n",
        "from sklearn.model_selection import train_test_split\n",
        "from sklearn.svm import SVR\n",
        "from sklearn.metrics import mean_squared_error, r2_score, mean_absolute_error, explained_variance_score, mean_squared_log_error\n",
        "\n",
        "# Load the dataset\n",
        "data = pd.read_csv(\"/content/drive/MyDrive/Colab Notebooks/50_Startups.csv\")\n",
        "data.dropna()\n",
        "\n",
        "# Split the data into features (x) and target variable (y)\n",
        "x = data.drop(\"Profit\", axis=1)\n",
        "y = data[\"Profit\"].values\n",
        "\n",
        "# Split the data into training and testing sets\n",
        "x_train, x_test, y_train, y_test = train_test_split(x, y, test_size=0.2, random_state=42)\n",
        "\n",
        "# Replace Linear Regression with Support Vector Regression (SVR)\n",
        "model = SVR(kernel='linear')  # You can choose different kernels like 'linear', 'rbf', etc.\n",
        "\n",
        "# Fit the model\n",
        "model.fit(x_train, y_train)\n",
        "\n",
        "# Make predictions\n",
        "y_pred = model.predict(x_test)\n",
        "\n",
        "# Evaluate the model\n",
        "mse = mean_squared_error(y_test, y_pred)\n",
        "mae = mean_absolute_error(y_test, y_pred)\n",
        "r2 = r2_score(y_test, y_pred)\n",
        "explained_var = explained_variance_score(y_test, y_pred)\n",
        "mse = mean_squared_error(y_test, y_pred)\n",
        "mse_log = mean_squared_log_error(y_test, y_pred)\n",
        "\n",
        "print(f'Mean Squared Error: {mse}')\n",
        "print(f'Mean Absolute Error: {mae}')\n",
        "print(\"R-squared (accuracy): \", r2)\n",
        "print(\"Explained Variance: \", explained_var)\n",
        "print(\"R-squared percentage: \", r2 * 100)\n",
        "print(\"Mean Squared Error: \", mse)\n",
        "print(\"Mean Squared Log Error: \", mse_log)\n",
        "accuracy.append(r2)"
      ],
      "metadata": {
        "colab": {
          "base_uri": "https://localhost:8080/"
        },
        "id": "eZVnxgi6wsXg",
        "outputId": "c1070ae5-9ab5-4b52-9453-50b49fdfa06f"
      },
      "execution_count": null,
      "outputs": [
        {
          "output_type": "stream",
          "name": "stdout",
          "text": [
            "Mean Squared Error: 103832131.51406816\n",
            "Mean Absolute Error: 7702.6232454934825\n",
            "R-squared (accuracy):  0.8717792691646302\n",
            "Explained Variance:  0.9010723614424225\n",
            "R-squared percentage:  87.17792691646302\n",
            "Mean Squared Error:  103832131.51406816\n",
            "Mean Squared Log Error:  0.029405587300442727\n"
          ]
        }
      ]
    },
    {
      "cell_type": "code",
      "source": [
        "import pandas as pd\n",
        "from sklearn.model_selection import train_test_split\n",
        "from sklearn.linear_model import Lasso\n",
        "from sklearn.metrics import mean_squared_error, r2_score, mean_absolute_error, explained_variance_score, mean_squared_log_error\n",
        "\n",
        "# Load the dataset\n",
        "data = pd.read_csv(\"/content/drive/MyDrive/Colab Notebooks/50_Startups.csv\")\n",
        "data.dropna()\n",
        "\n",
        "# Split the data into features (x) and target variable (y)\n",
        "x = data.drop(\"Profit\", axis=1)\n",
        "y = data[\"Profit\"].values\n",
        "\n",
        "# Split the data into training and testing sets\n",
        "x_train, x_test, y_train, y_test = train_test_split(x, y, test_size=0.2, random_state=42)\n",
        "\n",
        "# Replace Support Vector Regression (SVR) with Lasso Regression\n",
        "model = Lasso(alpha=1.0)  # You can adjust the alpha parameter for regularization strength\n",
        "\n",
        "# Fit the model\n",
        "model.fit(x_train, y_train)\n",
        "\n",
        "# Make predictions\n",
        "y_pred = model.predict(x_test)\n",
        "\n",
        "# Evaluate the model\n",
        "mse = mean_squared_error(y_test, y_pred)\n",
        "mae = mean_absolute_error(y_test, y_pred)\n",
        "r2 = r2_score(y_test, y_pred)\n",
        "explained_var = explained_variance_score(y_test, y_pred)\n",
        "mse = mean_squared_error(y_test, y_pred)\n",
        "mse_log = mean_squared_log_error(y_test, y_pred)\n",
        "\n",
        "print(f'Mean Squared Error: {mse}')\n",
        "print(f'Mean Absolute Error: {mae}')\n",
        "print(\"R-squared (accuracy): \", r2)\n",
        "print(\"Explained Variance: \", explained_var)\n",
        "print(\"R-squared percentage: \", r2 * 100)\n",
        "print(\"Mean Squared Error: \", mse)\n",
        "print(\"Mean Squared Log Error: \", mse_log)\n",
        "accuracy.append(r2)"
      ],
      "metadata": {
        "colab": {
          "base_uri": "https://localhost:8080/"
        },
        "id": "3s2vs5Jey6Vb",
        "outputId": "61bcd04d-cbe3-4376-b485-d14b201c5b54"
      },
      "execution_count": null,
      "outputs": [
        {
          "output_type": "stream",
          "name": "stdout",
          "text": [
            "Mean Squared Error: 80926320.76116827\n",
            "Mean Absolute Error: 6979.152235475119\n",
            "R-squared (accuracy):  0.9000653088739813\n",
            "Explained Variance:  0.9035288474534698\n",
            "R-squared percentage:  90.00653088739813\n",
            "Mean Squared Error:  80926320.76116827\n",
            "Mean Squared Log Error:  0.025721382291390545\n"
          ]
        }
      ]
    },
    {
      "cell_type": "code",
      "source": [
        "import pandas as pd\n",
        "from sklearn.model_selection import train_test_split\n",
        "from sklearn.neural_network import MLPRegressor #neural network regressor model\n",
        "from sklearn.metrics import mean_squared_error, r2_score, mean_absolute_error, explained_variance_score, mean_squared_log_error\n",
        "\n",
        "# Load the dataset\n",
        "data = pd.read_csv(\"/content/drive/MyDrive/Colab Notebooks/50_Startups.csv\")\n",
        "data.dropna()\n",
        "\n",
        "# Split the data into features (x) and target variable (y)\n",
        "x = data.drop(\"Profit\", axis=1)\n",
        "y = data[\"Profit\"].values\n",
        "\n",
        "# Split the data into training and testing sets\n",
        "x_train, x_test, y_train, y_test = train_test_split(x, y, test_size=0.2, random_state=42)\n",
        "\n",
        "# Replace Lasso Regression with Neural Network Regression\n",
        "model = MLPRegressor(hidden_layer_sizes=(10,), max_iter=1000, random_state=42)\n",
        "# You can adjust hyperparameters like hidden_layer_sizes, max_iter, etc.\n",
        "\n",
        "# Fit the model\n",
        "model.fit(x_train, y_train)\n",
        "\n",
        "# Make predictions\n",
        "y_pred = model.predict(x_test)\n",
        "\n",
        "# Evaluate the model\n",
        "mse = mean_squared_error(y_test, y_pred)\n",
        "mae = mean_absolute_error(y_test, y_pred)\n",
        "r2 = r2_score(y_test, y_pred)\n",
        "explained_var = explained_variance_score(y_test, y_pred)\n",
        "mse = mean_squared_error(y_test, y_pred)\n",
        "mse_log = mean_squared_log_error(y_test, y_pred)\n",
        "\n",
        "print(f'Mean Squared Error: {mse}')\n",
        "print(f'Mean Absolute Error: {mae}')\n",
        "print(\"R-squared (accuracy): \", r2)\n",
        "print(\"Explained Variance: \", explained_var)\n",
        "print(\"R-squared percentage: \", r2 * 100)\n",
        "print(\"Mean Squared Error: \", mse)\n",
        "print(\"Mean Squared Log Error: \", mse_log)\n",
        "accuracy.append(r2)"
      ],
      "metadata": {
        "colab": {
          "base_uri": "https://localhost:8080/"
        },
        "id": "5IG9955szNvm",
        "outputId": "776869de-87fd-4a05-c293-214920a593cf"
      },
      "execution_count": null,
      "outputs": [
        {
          "output_type": "stream",
          "name": "stdout",
          "text": [
            "Mean Squared Error: 273932805.83083653\n",
            "Mean Absolute Error: 14074.197882528417\n",
            "R-squared (accuracy):  0.6617245158002523\n",
            "Explained Variance:  0.8264681811109953\n",
            "R-squared percentage:  66.17245158002522\n",
            "Mean Squared Error:  273932805.83083653\n",
            "Mean Squared Log Error:  0.11648705674299276\n"
          ]
        },
        {
          "output_type": "stream",
          "name": "stderr",
          "text": [
            "/usr/local/lib/python3.10/dist-packages/sklearn/neural_network/_multilayer_perceptron.py:686: ConvergenceWarning: Stochastic Optimizer: Maximum iterations (1000) reached and the optimization hasn't converged yet.\n",
            "  warnings.warn(\n"
          ]
        }
      ]
    },
    {
      "cell_type": "code",
      "source": [
        "import pandas as pd\n",
        "from sklearn.model_selection import train_test_split\n",
        "from sklearn.neighbors import KNeighborsRegressor #K nearest neighbors regressor model\n",
        "from sklearn.metrics import mean_squared_error, r2_score, mean_absolute_error, explained_variance_score, mean_squared_log_error\n",
        "\n",
        "# Load the dataset\n",
        "data = pd.read_csv(\"/content/drive/MyDrive/Colab Notebooks/50_Startups.csv\")\n",
        "data.dropna()\n",
        "\n",
        "# Split the data into features (x) and target variable (y)\n",
        "x = data.drop(\"Profit\", axis=1)\n",
        "y = data[\"Profit\"].values\n",
        "\n",
        "# Split the data into training and testing sets\n",
        "x_train, x_test, y_train, y_test = train_test_split(x, y, test_size=0.2, random_state=42)\n",
        "\n",
        "# Replace Neural Network Regression with k-Nearest Neighbors (KNN) Regression\n",
        "model = KNeighborsRegressor(n_neighbors=4)  # You can adjust the number of neighbors (n_neighbors)\n",
        "\n",
        "# Fit the model\n",
        "model.fit(x_train, y_train)\n",
        "\n",
        "# Make predictions\n",
        "y_pred = model.predict(x_test)\n",
        "\n",
        "# Evaluate the model\n",
        "mse = mean_squared_error(y_test, y_pred)\n",
        "mae = mean_absolute_error(y_test, y_pred)\n",
        "r2 = r2_score(y_test, y_pred)\n",
        "explained_var = explained_variance_score(y_test, y_pred)\n",
        "mse = mean_squared_error(y_test, y_pred)\n",
        "mse_log = mean_squared_log_error(y_test, y_pred)\n",
        "\n",
        "print(f'Mean Squared Error: {mse}')\n",
        "print(f'Mean Absolute Error: {mae}')\n",
        "print(\"R-squared (accuracy): \", r2)\n",
        "print(\"Explained Variance: \", explained_var)\n",
        "print(\"R-squared percentage: \", r2 * 100)\n",
        "print(\"Mean Squared Error: \", mse)\n",
        "print(\"Mean Squared Log Error: \", mse_log)\n",
        "accuracy.append(r2)"
      ],
      "metadata": {
        "colab": {
          "base_uri": "https://localhost:8080/"
        },
        "id": "b8KBMrQn0GFj",
        "outputId": "6bfa354d-c56f-4f2b-d5be-31ac215d9536"
      },
      "execution_count": null,
      "outputs": [
        {
          "output_type": "stream",
          "name": "stdout",
          "text": [
            "Mean Squared Error: 469679292.3845151\n",
            "Mean Absolute Error: 13673.155500000004\n",
            "R-squared (accuracy):  0.4200001362812983\n",
            "Explained Variance:  0.5707464562640066\n",
            "R-squared percentage:  42.00001362812983\n",
            "Mean Squared Error:  469679292.3845151\n",
            "Mean Squared Log Error:  0.07295926277011525\n"
          ]
        }
      ]
    },
    {
      "cell_type": "code",
      "source": [
        "import pandas as pd\n",
        "from sklearn.model_selection import train_test_split\n",
        "from sklearn.ensemble import RandomForestRegressor\n",
        "from sklearn.metrics import mean_squared_error, r2_score, mean_absolute_error, explained_variance_score, mean_squared_log_error\n",
        "\n",
        "# Load the dataset\n",
        "data = pd.read_csv(\"/content/drive/MyDrive/Colab Notebooks/50_Startups.csv\")\n",
        "data.dropna()\n",
        "\n",
        "# Split the data into features (x) and target variable (y)\n",
        "x = data.drop(\"Profit\", axis=1)\n",
        "y = data[\"Profit\"].values\n",
        "\n",
        "# Split the data into training and testing sets\n",
        "x_train, x_test, y_train, y_test = train_test_split(x, y, test_size=0.2, random_state=42)\n",
        "\n",
        "# Replace k-Nearest Neighbors (KNN) Regression with Random Forest Regression\n",
        "model = RandomForestRegressor(n_estimators=100, random_state=42)  # You can adjust the number of trees (n_estimators)\n",
        "\n",
        "# Fit the model\n",
        "model.fit(x_train, y_train)\n",
        "\n",
        "# Make predictions\n",
        "y_pred = model.predict(x_test)\n",
        "\n",
        "# Evaluate the model\n",
        "mse = mean_squared_error(y_test, y_pred)\n",
        "mae = mean_absolute_error(y_test, y_pred)\n",
        "r2 = r2_score(y_test, y_pred)\n",
        "explained_var = explained_variance_score(y_test, y_pred)\n",
        "mse = mean_squared_error(y_test, y_pred)\n",
        "mse_log = mean_squared_log_error(y_test, y_pred)\n",
        "\n",
        "print(f'Mean Squared Error: {mse}')\n",
        "print(f'Mean Absolute Error: {mae}')\n",
        "print(\"R-squared (accuracy): \", r2)\n",
        "print(\"Explained Variance: \", explained_var)\n",
        "print(\"R-squared percentage: \", r2 * 100)\n",
        "print(\"Mean Squared Error: \", mse)\n",
        "print(\"Mean Squared Log Error: \", mse_log)\n",
        "accuracy.append(r2)"
      ],
      "metadata": {
        "colab": {
          "base_uri": "https://localhost:8080/"
        },
        "id": "FRz9hUYF0VGY",
        "outputId": "a775424d-08fc-4538-f5b7-748c27328ad2"
      },
      "execution_count": null,
      "outputs": [
        {
          "output_type": "stream",
          "name": "stdout",
          "text": [
            "Mean Squared Error: 72625008.62306513\n",
            "Mean Absolute Error: 6437.497739999977\n",
            "R-squared (accuracy):  0.9103164738430438\n",
            "Explained Variance:  0.9121542131235096\n",
            "R-squared percentage:  91.03164738430438\n",
            "Mean Squared Error:  72625008.62306513\n",
            "Mean Squared Log Error:  0.018918402267552027\n"
          ]
        }
      ]
    },
    {
      "cell_type": "code",
      "source": [
        "import matplotlib.pyplot as plt\n",
        "plt.ylabel(\"accuracies\")\n",
        "plt.xlabel(\"Regression models\")\n",
        "models = [\"Linear\", \"support vector\", \"Lasso\",\"Neural Network\", \"KNN \", \"Random Forest\"]\n",
        "plt.bar(models, accuracy)"
      ],
      "metadata": {
        "colab": {
          "base_uri": "https://localhost:8080/",
          "height": 466
        },
        "id": "dx3pEydoTaFq",
        "outputId": "5d74693d-3071-4846-bad4-f1e2b213cff9"
      },
      "execution_count": null,
      "outputs": [
        {
          "output_type": "execute_result",
          "data": {
            "text/plain": [
              "<BarContainer object of 6 artists>"
            ]
          },
          "metadata": {},
          "execution_count": 31
        },
        {
          "output_type": "display_data",
          "data": {
            "text/plain": [
              "<Figure size 640x480 with 1 Axes>"
            ],
            "image/png": "[encoded data removed]"
          },
          "metadata": {}
        }
      ]
    },
    {
      "cell_type": "code",
      "source": [],
      "metadata": {
        "id": "vfbjOMYOT4cl"
      },
      "execution_count": null,
      "outputs": []
    }
  ]
}